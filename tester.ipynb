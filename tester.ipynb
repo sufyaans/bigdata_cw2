{
 "cells": [
  {
   "cell_type": "code",
   "execution_count": 2,
   "outputs": [
    {
     "name": "stdout",
     "output_type": "stream",
     "text": [
      "Contents of the Dataframe : \n",
      "      A     B   C       D     E   F   G     H    I\n",
      "0  Jack   NaN  34  Sydney   NaN   5 NaN   NaN  NaN\n",
      "1  Riti  23.0  31   Delhi   NaN   7 NaN   NaN  NaN\n",
      "2  Aadi   NaN  16  London  32.0  11 NaN   3.0  NaN\n",
      "3  Mark   NaN  41   Delhi   NaN  12 NaN  11.0  1.0\n"
     ]
    }
   ],
   "source": [
    "import pandas as pd\n",
    "import numpy as np\n",
    "# List of Tuples\n",
    "empoyees = [('Jack', np.NaN, 34, 'Sydney', np.NaN,  5,  np.NaN, np.NaN, np.NaN),\n",
    "            ('Riti', 23    , 31, 'Delhi' , np.NaN,  7,  np.NaN, np.NaN, np.NaN),\n",
    "            ('Aadi', np.NaN, 16, 'London', 32,      11, np.NaN, 3, np.NaN),\n",
    "            ('Mark', np.NaN, 41, 'Delhi' , np.NaN,  12, np.NaN, 11, 1)]\n",
    "# Create a DataFrame object\n",
    "df = pd.DataFrame(  empoyees,\n",
    "                    columns=['A', 'B', 'C', 'D', 'E', 'F', 'G', 'H', 'I'])\n",
    "print(\"Contents of the Dataframe : \")\n",
    "print(df)"
   ],
   "metadata": {
    "collapsed": false,
    "pycharm": {
     "name": "#%%\n"
    }
   }
  },
  {
   "cell_type": "code",
   "execution_count": 3,
   "outputs": [
    {
     "name": "stdout",
     "output_type": "stream",
     "text": [
      "Modified Dataframe : \n",
      "      A   C       D   F     H\n",
      "0  Jack  34  Sydney   5   NaN\n",
      "1  Riti  31   Delhi   7   NaN\n",
      "2  Aadi  16  London  11   3.0\n",
      "3  Mark  41   Delhi  12  11.0\n",
      "Contents of the Dataframe : \n",
      "      A     B   C       D     E   F   G     H    I\n",
      "0  Jack   NaN  34  Sydney   NaN   5 NaN   NaN  NaN\n",
      "1  Riti  23.0  31   Delhi   NaN   7 NaN   NaN  NaN\n",
      "2  Aadi   NaN  16  London  32.0  11 NaN   3.0  NaN\n",
      "3  Mark   NaN  41   Delhi   NaN  12 NaN  11.0  1.0\n"
     ]
    }
   ],
   "source": [
    "# Delete columns containing either 75% or more than 75% NaN Values\n",
    "perc = 75.0\n",
    "min_count =  int(((100-perc)/100)*df.shape[0] + 1)\n",
    "mod_df = df.dropna( axis=1,\n",
    "                    thresh=min_count)\n",
    "print(\"Modified Dataframe : \")\n",
    "print(mod_df)\n",
    "print(\"Contents of the Dataframe : \")\n",
    "print(df)"
   ],
   "metadata": {
    "collapsed": false,
    "pycharm": {
     "name": "#%%\n"
    }
   }
  },
  {
   "cell_type": "code",
   "execution_count": null,
   "outputs": [],
   "source": [],
   "metadata": {
    "collapsed": false,
    "pycharm": {
     "name": "#%%\n"
    }
   }
  }
 ],
 "metadata": {
  "kernelspec": {
   "display_name": "Python 3",
   "language": "python",
   "name": "python3"
  },
  "language_info": {
   "codemirror_mode": {
    "name": "ipython",
    "version": 2
   },
   "file_extension": ".py",
   "mimetype": "text/x-python",
   "name": "python",
   "nbconvert_exporter": "python",
   "pygments_lexer": "ipython2",
   "version": "2.7.6"
  }
 },
 "nbformat": 4,
 "nbformat_minor": 0
}